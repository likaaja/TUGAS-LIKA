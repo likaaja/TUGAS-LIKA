{
  "nbformat": 4,
  "nbformat_minor": 0,
  "metadata": {
    "colab": {
      "provenance": [],
      "authorship_tag": "ABX9TyM9TfXXl+s0BOoflYdrN/GM",
      "include_colab_link": true
    },
    "kernelspec": {
      "name": "python3",
      "display_name": "Python 3"
    },
    "language_info": {
      "name": "python"
    }
  },
  "cells": [
    {
      "cell_type": "markdown",
      "metadata": {
        "id": "view-in-github",
        "colab_type": "text"
      },
      "source": [
        "<a href=\"https://colab.research.google.com/github/likaaja/TUGAS-LIKA/blob/main/Exception_py.ipynb\" target=\"_parent\"><img src=\"https://colab.research.google.com/assets/colab-badge.svg\" alt=\"Open In Colab\"/></a>"
      ]
    },
    {
      "cell_type": "code",
      "execution_count": 19,
      "metadata": {
        "id": "roLOR4Y3tgxO"
      },
      "outputs": [],
      "source": [
        "class BankAccount:\n",
        "  def __init__(self, norek, saldo=0):\n",
        "    self.norek = norek\n",
        "    self.saldo = saldo\n",
        "\n",
        "  def transfer(self, amount):\n",
        "    if amount > self.saldo:\n",
        "      raise ValueError(f\"saldo tidak mencukupi, saldo anda adalah {self.saldo:,}\")\n",
        "    self.saldo -= amount\n",
        "\n"
      ]
    },
    {
      "cell_type": "code",
      "source": [
        "bca_1=BankAccount(\"12345\", 2000000)\n",
        "print(f\"saldo anda adalah {bca_1.saldo:,.2f}\")\n",
        "\n",
        "try:\n",
        "  bca_1.transfer(5000000)\n",
        "except ValueError as e:\n",
        "  print(e)"
      ],
      "metadata": {
        "colab": {
          "base_uri": "https://localhost:8080/"
        },
        "id": "02zVOUZ4vAiY",
        "outputId": "948c4abe-ae3a-445c-fdf6-1c3e4ed25879"
      },
      "execution_count": 18,
      "outputs": [
        {
          "output_type": "stream",
          "name": "stdout",
          "text": [
            "saldo anda adalah 2,000,000.00\n",
            "saldo tidak mencukupi, saldo anda adalah 2,000,000\n"
          ]
        }
      ]
    },
    {
      "cell_type": "code",
      "source": [
        "class BalanceNotEnough(Exception):\n",
        "  def __init__(self, message):\n",
        "    self.message = message\n",
        "  def __str__(self):\n",
        "    return self.message\n",
        "\n",
        "class BankAccount:\n",
        "  def __init__(self, no, balance=0):\n",
        "    self.no = no\n",
        "    self.balance = balance\n",
        "\n",
        "  def transfer(self, amount):\n",
        "    if amount > self.balance:\n",
        "      raise BalanceNotEnough(f\"saldo tidak mencukupi, saldo anda adalah {self.balance:,}\")\n",
        "    self.balance -= amount\n",
        "\n",
        "bca_1=BankAccount(\"12345\", 2000000)\n",
        "print(f\"saldo anda adalah {bca_1.balance:,.2f}\")\n",
        "\n",
        "try:\n",
        "  bca_1.transfer(5000000)\n",
        "except BalanceNotEnough as e:\n",
        "  print(e)"
      ],
      "metadata": {
        "colab": {
          "base_uri": "https://localhost:8080/"
        },
        "id": "O6sKyYEDzy22",
        "outputId": "75d4ae3e-03a8-4f5f-9fd8-782328111ce6"
      },
      "execution_count": 24,
      "outputs": [
        {
          "output_type": "stream",
          "name": "stdout",
          "text": [
            "saldo anda adalah 2,000,000.00\n",
            "saldo tidak mencukupi, saldo anda adalah 2,000,000\n"
          ]
        }
      ]
    }
  ]
}