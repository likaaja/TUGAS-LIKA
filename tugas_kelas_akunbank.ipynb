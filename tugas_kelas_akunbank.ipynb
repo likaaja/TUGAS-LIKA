{
  "nbformat": 4,
  "nbformat_minor": 0,
  "metadata": {
    "colab": {
      "provenance": [],
      "include_colab_link": true
    },
    "kernelspec": {
      "name": "python3",
      "display_name": "Python 3"
    },
    "language_info": {
      "name": "python"
    }
  },
  "cells": [
    {
      "cell_type": "markdown",
      "metadata": {
        "id": "view-in-github",
        "colab_type": "text"
      },
      "source": [
        "<a href=\"https://colab.research.google.com/github/likaaja/TUGAS-LIKA/blob/main/tugas_kelas_akunbank.ipynb\" target=\"_parent\"><img src=\"https://colab.research.google.com/assets/colab-badge.svg\" alt=\"Open In Colab\"/></a>"
      ]
    },
    {
      "cell_type": "code",
      "execution_count": null,
      "metadata": {
        "id": "eqhIm5JCuiJA"
      },
      "outputs": [],
      "source": [
        "class AkunBank:\n",
        "  def __init__(self,no_rek,nasabah,saldo_awal,pin):\n",
        "    self.__nor_rek=no_rek\n",
        "    self.__nasabah=nasabah\n",
        "    self.__saldo=saldo_awal\n",
        "    self.__pin=pin\n",
        "\n",
        "  @property\n",
        "  def nasabah(self):\n",
        "    return self.__nasabah\n",
        "\n",
        "  @property\n",
        "  def saldo(self):\n",
        "    return self.__saldo\n",
        "\n",
        "  def setor(self,jumlah):\n",
        "    if jumlah>0 :\n",
        "      self.__saldo +=jumlah\n",
        "      print(f\"Setor berhasil, saldo sekarang {self.__saldo}\")\n",
        "    else:\n",
        "      print(\"Gagal setor, karena negatif\")\n"
      ]
    },
    {
      "cell_type": "code",
      "source": [
        "nasabah1=AkunBank(\"111\",\"Sabiq\",10000,\"123\")\n",
        "print(f\"Saldo Nasabah {nasabah1.nasabah} adalah {nasabah1.saldo}\")"
      ],
      "metadata": {
        "colab": {
          "base_uri": "https://localhost:8080/"
        },
        "id": "iFbaLXTovQOE",
        "outputId": "91fbfbd6-45cc-4167-fb1c-251c35d1a640"
      },
      "execution_count": null,
      "outputs": [
        {
          "output_type": "stream",
          "name": "stdout",
          "text": [
            "Saldo Nasabah Sabiq adalah 10000\n"
          ]
        }
      ]
    },
    {
      "cell_type": "code",
      "source": [
        "nasabah1.setor(20000)\n",
        "print(f\"Saldo Nasabah {nasabah1.nasabah} adalah {nasabah1.saldo}\")"
      ],
      "metadata": {
        "colab": {
          "base_uri": "https://localhost:8080/"
        },
        "id": "WWED1gIaxnqv",
        "outputId": "6dfde205-1253-4f03-bf11-a372115d065b"
      },
      "execution_count": null,
      "outputs": [
        {
          "output_type": "stream",
          "name": "stdout",
          "text": [
            "Setor berhasil, saldo sekarang 30000\n",
            "Saldo Nasabah Sabiq adalah 30000\n"
          ]
        }
      ]
    },
    {
      "cell_type": "code",
      "source": [
        "nasabah1.setor(-100000)"
      ],
      "metadata": {
        "colab": {
          "base_uri": "https://localhost:8080/"
        },
        "id": "Tkxj2BPwxrKv",
        "outputId": "b95a8bfa-0e5a-41de-f09a-b3bb3ef34134"
      },
      "execution_count": null,
      "outputs": [
        {
          "output_type": "stream",
          "name": "stdout",
          "text": [
            "Gagal setor, karena negatif\n"
          ]
        }
      ]
    }
  ]
}